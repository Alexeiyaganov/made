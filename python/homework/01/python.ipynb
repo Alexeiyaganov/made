{
 "cells": [
  {
   "cell_type": "code",
   "execution_count": 83,
   "id": "54a418a4",
   "metadata": {},
   "outputs": [],
   "source": [
    "import math\n",
    "def func(a, b, c):\n",
    "    '''\n",
    "    This function calculates the asser of equation ax^2+bx+x=0\n",
    "    a:float b:float c: float\n",
    "    return: tuple or None\n",
    "    '''\n",
    "    D = b ** 2 - 4 * a * c\n",
    "    if a == 0:\n",
    "        if b == 0:\n",
    "            return None\n",
    "        else:\n",
    "            x= - c / b\n",
    "            return( x )\n",
    "    elif D < 0:\n",
    "        return None\n",
    "    elif D > 0:\n",
    "        x1 = ( - b - math.sqrt(D)) / (2 * a)\n",
    "        x2 = ( - b + math.sqrt(D)) / (2 * a)\n",
    "        return ( x1, x2 )\n",
    "    else:\n",
    "        x = - b / ( 2 * a )\n",
    "        return ( x )"
   ]
  },
  {
   "cell_type": "code",
   "execution_count": null,
   "id": "a24a65b7",
   "metadata": {},
   "outputs": [],
   "source": []
  },
  {
   "cell_type": "code",
   "execution_count": 84,
   "id": "c62e8c9f",
   "metadata": {},
   "outputs": [
    {
     "name": "stdout",
     "output_type": "stream",
     "text": [
      "ok\n"
     ]
    }
   ],
   "source": [
    "assert func(-2,1,1) == (1,-0.5)\n",
    "assert func(1,1,1) == None\n",
    "assert func(1,2,1) == (-1)\n",
    "print('ok')"
   ]
  },
  {
   "cell_type": "code",
   "execution_count": 85,
   "id": "a9988fde",
   "metadata": {},
   "outputs": [],
   "source": [
    "def is_even(input_list):\n",
    "    '''\n",
    "    This function calculates the asser of equation ax^2+bx+x=0\n",
    "    input_list:list[int]\n",
    "    return: tuple(List[int])\n",
    "    '''\n",
    "    is_ev=[]\n",
    "    not_ev=[]\n",
    "    for i in input_list:\n",
    "        if not type(i)==int:\n",
    "            return None\n",
    "        elif i%2==1:\n",
    "            not_ev.append(i)\n",
    "        else:\n",
    "            is_ev.append(i)\n",
    "    return (is_ev,not_ev)"
   ]
  },
  {
   "cell_type": "code",
   "execution_count": 86,
   "id": "b70a63e4",
   "metadata": {},
   "outputs": [
    {
     "name": "stdout",
     "output_type": "stream",
     "text": [
      "ok\n"
     ]
    }
   ],
   "source": [
    "assert is_even([1, 2, 3, 4, 5, 6, 7, 8, 9, 10]) == ([2,4,6,8,10],[1,3,5,7,9])\n",
    "assert is_even([]) == ([],[])\n",
    "assert is_even([1,2,3,'e',4,5]) == None\n",
    "print('ok')"
   ]
  },
  {
   "cell_type": "code",
   "execution_count": null,
   "id": "85e5dbb0",
   "metadata": {},
   "outputs": [],
   "source": []
  }
 ],
 "metadata": {
  "kernelspec": {
   "display_name": "Python 3 (ipykernel)",
   "language": "python",
   "name": "python3"
  },
  "language_info": {
   "codemirror_mode": {
    "name": "ipython",
    "version": 3
   },
   "file_extension": ".py",
   "mimetype": "text/x-python",
   "name": "python",
   "nbconvert_exporter": "python",
   "pygments_lexer": "ipython3",
   "version": "3.9.7"
  }
 },
 "nbformat": 4,
 "nbformat_minor": 5
}
